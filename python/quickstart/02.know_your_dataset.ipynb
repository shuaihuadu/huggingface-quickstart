{
 "cells": [
  {
   "cell_type": "code",
   "execution_count": 11,
   "metadata": {},
   "outputs": [
    {
     "data": {
      "text/plain": [
       "{'text': ['if you sometimes like to go to the movies to have fun , wasabi is a good place to start .',\n",
       "  \"emerges as something rare , an issue movie that's so honest and keenly observed that it doesn't feel like one .\",\n",
       "  'the film provides some great insight into the neurotic mindset of all comics -- even those who have reached the absolute top of the game .'],\n",
       " 'label': [1, 1, 1]}"
      ]
     },
     "execution_count": 11,
     "metadata": {},
     "output_type": "execute_result"
    }
   ],
   "source": [
    "from datasets import load_dataset\n",
    "\n",
    "dataset = load_dataset(\"rotten_tomatoes\", split=\"train\")\n",
    "\n",
    "# Get the first row in the dataset\n",
    "dataset[0]\n",
    "\n",
    "# Get the last row in the dataset\n",
    "dataset[-1]\n",
    "\n",
    "# Get the data by column\n",
    "dataset[\"text\"]\n",
    "\n",
    "# Get the data by row and column\n",
    "dataset[2][\"text\"]\n",
    "\n",
    "# Get the first three rows\n",
    "dataset[:3]\n",
    "\n",
    "# Get rows between three and six\n",
    "dataset[3:6]"
   ]
  },
  {
   "cell_type": "code",
   "execution_count": 12,
   "metadata": {},
   "outputs": [
    {
     "name": "stdout",
     "output_type": "stream",
     "text": [
      "Elapsed time: 0.0000 seconds\n",
      "Elapsed time:0.0064 seconds\n"
     ]
    }
   ],
   "source": [
    "import time\n",
    "\n",
    "start_time = time.time()\n",
    "\n",
    "text = dataset[0][\"text\"]\n",
    "\n",
    "end_time = time.time()\n",
    "\n",
    "print(f\"Elapsed time: {end_time - start_time:.4f} seconds\")\n",
    "\n",
    "\n",
    "start_time = time.time()\n",
    "\n",
    "text = dataset[\"text\"][0]\n",
    "\n",
    "end_time = time.time()\n",
    "\n",
    "print(f\"Elapsed time:{end_time - start_time:.4f} seconds\")"
   ]
  },
  {
   "cell_type": "code",
   "execution_count": 13,
   "metadata": {},
   "outputs": [],
   "source": [
    "from datasets import load_dataset\n",
    "\n",
    "iterable_dataset = load_dataset(\"food101\", split=\"train\", streaming=True)\n",
    "\n",
    "for example in iterable_dataset:\n",
    "    print(example)\n",
    "    break"
   ]
  },
  {
   "cell_type": "code",
   "execution_count": 6,
   "metadata": {},
   "outputs": [
    {
     "data": {
      "text/plain": [
       "[{'text': 'the rock is destined to be the 21st century\\'s new \" conan \" and that he\\'s going to make a splash even greater than arnold schwarzenegger , jean-claud van damme or steven segal .',\n",
       "  'label': 1},\n",
       " {'text': 'the gorgeously elaborate continuation of \" the lord of the rings \" trilogy is so huge that a column of words cannot adequately describe co-writer/director peter jackson\\'s expanded vision of j . r . r . tolkien\\'s middle-earth .',\n",
       "  'label': 1},\n",
       " {'text': 'effective but too-tepid biopic', 'label': 1},\n",
       " {'text': 'if you sometimes like to go to the movies to have fun , wasabi is a good place to start .',\n",
       "  'label': 1},\n",
       " {'text': \"emerges as something rare , an issue movie that's so honest and keenly observed that it doesn't feel like one .\",\n",
       "  'label': 1}]"
      ]
     },
     "execution_count": 6,
     "metadata": {},
     "output_type": "execute_result"
    }
   ],
   "source": [
    "from datasets import load_dataset\n",
    "\n",
    "dataset = load_dataset(\"rotten_tomatoes\", split=\"train\")\n",
    "\n",
    "iterable_dataset = dataset.to_iterable_dataset()\n",
    "\n",
    "# iterable_dataset\n",
    "\n",
    "# next(iter(iterable_dataset))\n",
    "\n",
    "list(iter(iterable_dataset.take(5)))"
   ]
  }
 ],
 "metadata": {
  "kernelspec": {
   "display_name": "Python 3",
   "language": "python",
   "name": "python3"
  },
  "language_info": {
   "codemirror_mode": {
    "name": "ipython",
    "version": 3
   },
   "file_extension": ".py",
   "mimetype": "text/x-python",
   "name": "python",
   "nbconvert_exporter": "python",
   "pygments_lexer": "ipython3",
   "version": "3.11.7"
  }
 },
 "nbformat": 4,
 "nbformat_minor": 2
}
